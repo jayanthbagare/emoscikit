{
 "cells": [
  {
   "cell_type": "code",
   "execution_count": 91,
   "metadata": {
    "collapsed": true
   },
   "outputs": [],
   "source": [
    "from itertools import chain\n",
    "from nltk.corpus import wordnet\n",
    "import pandas as pd\n",
    "import numpy as np"
   ]
  },
  {
   "cell_type": "code",
   "execution_count": 92,
   "metadata": {
    "collapsed": false
   },
   "outputs": [],
   "source": [
    "emodata = pd.read_csv('EmotionCleanTagged.csv')\n",
    "rows_list = []"
   ]
  },
  {
   "cell_type": "code",
   "execution_count": 93,
   "metadata": {
    "collapsed": false
   },
   "outputs": [
    {
     "ename": "NameError",
     "evalue": "name 'row_list' is not defined",
     "output_type": "error",
     "traceback": [
      "\u001b[0;31m---------------------------------------------------------------------------\u001b[0m",
      "\u001b[0;31mNameError\u001b[0m                                 Traceback (most recent call last)",
      "\u001b[0;32m<ipython-input-93-776edc7310c2>\u001b[0m in \u001b[0;36m<module>\u001b[0;34m()\u001b[0m\n\u001b[1;32m     16\u001b[0m         \u001b[0mactual_row\u001b[0m\u001b[0;34m[\u001b[0m\u001b[0;34m'Surprise'\u001b[0m\u001b[0;34m]\u001b[0m \u001b[0;34m=\u001b[0m \u001b[0mrow\u001b[0m\u001b[0;34m[\u001b[0m\u001b[0;34m'Surprise'\u001b[0m\u001b[0;34m]\u001b[0m\u001b[0;34m\u001b[0m\u001b[0m\n\u001b[1;32m     17\u001b[0m         \u001b[0mactual_row\u001b[0m\u001b[0;34m[\u001b[0m\u001b[0;34m'Trust'\u001b[0m\u001b[0;34m]\u001b[0m \u001b[0;34m=\u001b[0m \u001b[0mrow\u001b[0m\u001b[0;34m[\u001b[0m\u001b[0;34m'Trust'\u001b[0m\u001b[0;34m]\u001b[0m\u001b[0;34m\u001b[0m\u001b[0m\n\u001b[0;32m---> 18\u001b[0;31m         \u001b[0mrow_list\u001b[0m\u001b[0;34m.\u001b[0m\u001b[0mappend\u001b[0m\u001b[0;34m(\u001b[0m\u001b[0mactual_row\u001b[0m\u001b[0;34m)\u001b[0m\u001b[0;34m\u001b[0m\u001b[0m\n\u001b[0m\u001b[1;32m     19\u001b[0m \u001b[0;34m\u001b[0m\u001b[0m\n\u001b[1;32m     20\u001b[0m         \u001b[0mnew_row\u001b[0m\u001b[0;34m[\u001b[0m\u001b[0;34m'English Word'\u001b[0m\u001b[0;34m]\u001b[0m \u001b[0;34m=\u001b[0m \u001b[0mkey\u001b[0m\u001b[0;34m.\u001b[0m\u001b[0mreplace\u001b[0m\u001b[0;34m(\u001b[0m\u001b[0;34m\"_\"\u001b[0m\u001b[0;34m,\u001b[0m\u001b[0;34m\" \"\u001b[0m\u001b[0;34m)\u001b[0m\u001b[0;34m\u001b[0m\u001b[0m\n",
      "\u001b[0;31mNameError\u001b[0m: name 'row_list' is not defined"
     ]
    }
   ],
   "source": [
    "for index,row in emodata.iterrows():\n",
    "    synonyms = wordnet.synsets(row['English Word'])\n",
    "    lemmas = set(chain.from_iterable([word.lemma_names() for word in synonyms]))\n",
    "    actual_row = dict()\n",
    "    new_row = dict()\n",
    "    for key in lemmas:\n",
    "        actual_row['English Word'] = row['English Word']\n",
    "        actual_row['Positive'] = row['Positive']\n",
    "        actual_row['Negative'] = row['Negative']\n",
    "        actual_row['Anger'] = row['Anger']\n",
    "        actual_row['Anticipation'] = row['Anticipation']\n",
    "        actual_row['Disgust'] = row['Disgust']\n",
    "        actual_row['Fear'] = row['Fear']\n",
    "        actual_row['Joy'] = row['Joy']\n",
    "        actual_row['Sadness'] = row['Sadness']\n",
    "        actual_row['Surprise'] = row['Surprise']\n",
    "        actual_row['Trust'] = row['Trust']\n",
    "        rows_list.append(actual_row)\n",
    "        \n",
    "        new_row['English Word'] = key.replace(\"_\",\" \")\n",
    "        new_row['Positive'] = row['Positive']\n",
    "        new_row['Negative'] = row['Negative']\n",
    "        new_row['Anger'] = row['Anger']\n",
    "        new_row['Anticipation'] = row['Anticipation']\n",
    "        new_row['Disgust'] = row['Disgust']\n",
    "        new_row['Fear'] = row['Fear']\n",
    "        new_row['Joy'] = row['Joy']\n",
    "        new_row['Sadness'] = row['Sadness']\n",
    "        new_row['Surprise'] = row['Surprise']\n",
    "        new_row['Trust'] = row['Trust']\n",
    "        rows_list.append(new_row)\n",
    "        \n",
    "outdata = pd.DataFrame(data=rows_list)\n",
    "finaldata = outdata.drop_duplicates(subset='English Word', keep='first', inplace=False)\n",
    "finaldata.sort_values('English Word')\n",
    "finaldata.to_csv('bigList.csv',index=False)"
   ]
  }
 ],
 "metadata": {
  "kernelspec": {
   "display_name": "Python 3",
   "language": "python",
   "name": "python3"
  },
  "language_info": {
   "codemirror_mode": {
    "name": "ipython",
    "version": 3
   },
   "file_extension": ".py",
   "mimetype": "text/x-python",
   "name": "python",
   "nbconvert_exporter": "python",
   "pygments_lexer": "ipython3",
   "version": "3.6.0"
  }
 },
 "nbformat": 4,
 "nbformat_minor": 2
}
